{
 "cells": [
  {
   "cell_type": "code",
   "execution_count": 1,
   "metadata": {},
   "outputs": [],
   "source": [
    "import pandas as pd\n",
    "\n",
    "# Columns to keep\n",
    "columns_to_keep = [\n",
    "    'id','location_long','SELd','SELe','SELn','SELden','SEL','label',\n",
    "    'windspeed','winddirection','callsign','duration','hex_s', \n",
    "    'registration', 'icao_type', 'serial'\n",
    "]\n",
    "\n",
    "# Read the CSV\n",
    "df = pd.read_csv('Data1jaar.csv')\n",
    "\n",
    "# Filter to keep only the specified columns (ignore missing ones safely)\n",
    "df_filtered = df[[col for col in columns_to_keep if col in df.columns]]\n",
    "\n",
    "# Save to new file\n",
    "df_filtered.to_csv('Ndata1jaar.csv', index=False)"
   ]
  }
 ],
 "metadata": {
  "kernelspec": {
   "display_name": "base",
   "language": "python",
   "name": "python3"
  },
  "language_info": {
   "codemirror_mode": {
    "name": "ipython",
    "version": 3
   },
   "file_extension": ".py",
   "mimetype": "text/x-python",
   "name": "python",
   "nbconvert_exporter": "python",
   "pygments_lexer": "ipython3",
   "version": "3.12.2"
  }
 },
 "nbformat": 4,
 "nbformat_minor": 2
}
