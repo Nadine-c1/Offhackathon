{
 "cells": [
  {
   "cell_type": "code",
   "execution_count": 3,
   "metadata": {},
   "outputs": [],
   "source": [
    "import pandas as pd\n",
    "\n",
    "# Kolommen die je wilt verwijderen\n",
    "columns_to_drop = ['SELd', 'SELe', 'SELn', 'SELden',\n",
    "    'SEL', 'label', 'registration', 'icao_type', 'serial'\n",
    "]\n",
    "\n",
    "# Laad de CSV\n",
    "df = pd.read_csv('Data1jaar.csv')\n",
    "\n",
    "# Drop de kolommen (zonder error als kolom niet bestaat)\n",
    "df_cleaned = df.drop(columns=columns_to_drop, errors='ignore')\n",
    "\n",
    "# Opslaan als nieuwe CSV\n",
    "df_cleaned.to_csv('Ndata1jaar.csv', index=False)"
   ]
  }
 ],
 "metadata": {
  "kernelspec": {
   "display_name": "base",
   "language": "python",
   "name": "python3"
  },
  "language_info": {
   "codemirror_mode": {
    "name": "ipython",
    "version": 3
   },
   "file_extension": ".py",
   "mimetype": "text/x-python",
   "name": "python",
   "nbconvert_exporter": "python",
   "pygments_lexer": "ipython3",
   "version": "3.12.2"
  }
 },
 "nbformat": 4,
 "nbformat_minor": 2
}
